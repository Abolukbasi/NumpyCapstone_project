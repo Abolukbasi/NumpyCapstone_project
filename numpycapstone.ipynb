{
 "cells": [
  {
   "cell_type": "markdown",
   "id": "7f5229c7",
   "metadata": {},
   "source": [
    "# NUMPY CAPSTONE PROJECT - BLOOD DONATION\n",
    "![blood_donation.png](blood_donation.png)\n",
    "<p>Blood transfusion saves lives - from replacing lost blood during major surgery or a serious injury to treating various illnesses and blood disorders. Ensuring that there's enough blood in supply whenever needed is a serious challenge for the health professionals. According to <a href=\"https://www.webmd.com/a-to-z-guides/blood-transfusion-what-to-know#1\">WebMD</a>, \"about 5 million Americans need a blood transfusion every year\".</p>\n",
    "<p>Our dataset is from a mobile blood donation vehicle in Taiwan.</p>\n",
    "<p>The data is stored in <code>datasets/transfusion.data</code> and it is structured according to RFMTC marketing model (a variation of RFM). \n",
    "<p>In this project, you are going to inspect the data using Numpy.</p>"
   ]
  },
  {
   "cell_type": "markdown",
   "id": "04f11be3",
   "metadata": {},
   "source": [
    "#### IMPORTING LIBRARIES AND DATA\n",
    "\n",
    "* Import `numpy` as np and genfromtxt as follows: `from numpy import genfromtxt`\n",
    "\n",
    "* Call the data by using gentxt as follows: `gentxt(\"YourDirectory\", delimiter = \",\"`"
   ]
  },
  {
   "cell_type": "code",
   "execution_count": 3,
   "id": "df0c56c2",
   "metadata": {},
   "outputs": [
    {
     "data": {
      "text/plain": [
       "array([[     nan,      nan,      nan,      nan,      nan],\n",
       "       [2.00e+00, 5.00e+01, 1.25e+04, 9.80e+01, 1.00e+00],\n",
       "       [0.00e+00, 1.30e+01, 3.25e+03, 2.80e+01, 1.00e+00],\n",
       "       ...,\n",
       "       [2.30e+01, 3.00e+00, 7.50e+02, 6.20e+01, 0.00e+00],\n",
       "       [3.90e+01, 1.00e+00, 2.50e+02, 3.90e+01, 0.00e+00],\n",
       "       [7.20e+01, 1.00e+00, 2.50e+02, 7.20e+01, 0.00e+00]])"
      ]
     },
     "execution_count": 3,
     "metadata": {},
     "output_type": "execute_result"
    }
   ],
   "source": [
    "import numpy as np\n",
    "from numpy import genfromtxt     #r kullan tek \\\n",
    "my_data = genfromtxt(\"C:\\\\Users\\\\DELL\\\\numpycapstone\\\\datasets\\\\transfusion.data\",\n",
    "                    delimiter = \",\")\n",
    "my_data"
   ]
  },
  {
   "cell_type": "markdown",
   "id": "4ce70d89",
   "metadata": {},
   "source": [
    "* Inspect our data's type by `my_data`"
   ]
  },
  {
   "cell_type": "code",
   "execution_count": 7,
   "id": "ac7a2a73",
   "metadata": {},
   "outputs": [
    {
     "data": {
      "text/plain": [
       "numpy.ndarray"
      ]
     },
     "execution_count": 7,
     "metadata": {},
     "output_type": "execute_result"
    }
   ],
   "source": [
    "type(my_data)   #numpy formatı"
   ]
  },
  {
   "cell_type": "markdown",
   "id": "a18ef41d",
   "metadata": {},
   "source": [
    "* Use `ndim` to see how many dimensions data has."
   ]
  },
  {
   "cell_type": "code",
   "execution_count": 146,
   "id": "eb2ae302",
   "metadata": {},
   "outputs": [
    {
     "data": {
      "text/plain": [
       "2"
      ]
     },
     "execution_count": 146,
     "metadata": {},
     "output_type": "execute_result"
    }
   ],
   "source": [
    "my_data.ndim"
   ]
  },
  {
   "cell_type": "markdown",
   "id": "d6d03703",
   "metadata": {},
   "source": [
    "* Return the first row our data."
   ]
  },
  {
   "cell_type": "code",
   "execution_count": 147,
   "id": "270ed1a5",
   "metadata": {},
   "outputs": [
    {
     "data": {
      "text/plain": [
       "array([[     nan,      nan,      nan,      nan,      nan],\n",
       "       [2.00e+00, 5.00e+01, 1.25e+04, 9.80e+01, 1.00e+00],\n",
       "       [0.00e+00, 1.30e+01, 3.25e+03, 2.80e+01, 1.00e+00],\n",
       "       ...,\n",
       "       [2.30e+01, 3.00e+00, 7.50e+02, 6.20e+01, 0.00e+00],\n",
       "       [3.90e+01, 1.00e+00, 2.50e+02, 3.90e+01, 0.00e+00],\n",
       "       [7.20e+01, 1.00e+00, 2.50e+02, 7.20e+01, 0.00e+00]])"
      ]
     },
     "execution_count": 147,
     "metadata": {},
     "output_type": "execute_result"
    }
   ],
   "source": [
    "my_data"
   ]
  },
  {
   "cell_type": "code",
   "execution_count": 10,
   "id": "0d8e7a9d",
   "metadata": {},
   "outputs": [
    {
     "data": {
      "text/plain": [
       "array([nan, nan, nan, nan, nan])"
      ]
     },
     "execution_count": 10,
     "metadata": {},
     "output_type": "execute_result"
    }
   ],
   "source": [
    "my_data[0]"
   ]
  },
  {
   "cell_type": "markdown",
   "id": "4378c3f4",
   "metadata": {},
   "source": [
    "* First row contains `nan` values. Delete `nan` values by `np.delete()`\n",
    "* Note: `nan` values are located in `0,0`"
   ]
  },
  {
   "cell_type": "code",
   "execution_count": 10,
   "id": "6d3749d4",
   "metadata": {
    "scrolled": true
   },
   "outputs": [],
   "source": [
    "my_data=np.delete(my_data,0,0)"
   ]
  },
  {
   "cell_type": "code",
   "execution_count": 11,
   "id": "012567ab",
   "metadata": {},
   "outputs": [
    {
     "data": {
      "text/plain": [
       "array([[2.00e+00, 5.00e+01, 1.25e+04, 9.80e+01, 1.00e+00],\n",
       "       [0.00e+00, 1.30e+01, 3.25e+03, 2.80e+01, 1.00e+00],\n",
       "       [1.00e+00, 1.60e+01, 4.00e+03, 3.50e+01, 1.00e+00],\n",
       "       ...,\n",
       "       [2.30e+01, 3.00e+00, 7.50e+02, 6.20e+01, 0.00e+00],\n",
       "       [3.90e+01, 1.00e+00, 2.50e+02, 3.90e+01, 0.00e+00],\n",
       "       [7.20e+01, 1.00e+00, 2.50e+02, 7.20e+01, 0.00e+00]])"
      ]
     },
     "execution_count": 11,
     "metadata": {},
     "output_type": "execute_result"
    }
   ],
   "source": [
    "my_data"
   ]
  },
  {
   "cell_type": "markdown",
   "id": "50200b92",
   "metadata": {},
   "source": [
    "* Return `my_data` to check whether you removed `nan` values or not."
   ]
  },
  {
   "cell_type": "code",
   "execution_count": 12,
   "id": "4a0a3725",
   "metadata": {},
   "outputs": [
    {
     "data": {
      "text/plain": [
       "array([[False, False, False, False, False],\n",
       "       [False, False, False, False, False],\n",
       "       [False, False, False, False, False],\n",
       "       ...,\n",
       "       [False, False, False, False, False],\n",
       "       [False, False, False, False, False],\n",
       "       [False, False, False, False, False]])"
      ]
     },
     "execution_count": 12,
     "metadata": {},
     "output_type": "execute_result"
    }
   ],
   "source": [
    "np.isnan(my_data)   #hasnans olabilir mi"
   ]
  },
  {
   "cell_type": "markdown",
   "id": "6a501250",
   "metadata": {},
   "source": [
    "* To see the dimensions of the data, use `shape`"
   ]
  },
  {
   "cell_type": "code",
   "execution_count": 13,
   "id": "a75c07d5",
   "metadata": {},
   "outputs": [
    {
     "data": {
      "text/plain": [
       "(748, 5)"
      ]
     },
     "execution_count": 13,
     "metadata": {},
     "output_type": "execute_result"
    }
   ],
   "source": [
    "my_data.shape"
   ]
  },
  {
   "cell_type": "markdown",
   "id": "7205fe4e",
   "metadata": {},
   "source": [
    "* To see how many unit(eleman) you have on your data, use `size`"
   ]
  },
  {
   "cell_type": "code",
   "execution_count": 152,
   "id": "59c457ca",
   "metadata": {},
   "outputs": [
    {
     "data": {
      "text/plain": [
       "3745"
      ]
     },
     "execution_count": 152,
     "metadata": {},
     "output_type": "execute_result"
    }
   ],
   "source": [
    "np.size(my_data)"
   ]
  },
  {
   "cell_type": "markdown",
   "id": "bbf63a89",
   "metadata": {},
   "source": [
    "* To see the data type inside `my_data`, use `dtype`"
   ]
  },
  {
   "cell_type": "code",
   "execution_count": 14,
   "id": "c5dd187a",
   "metadata": {},
   "outputs": [
    {
     "data": {
      "text/plain": [
       "dtype('float64')"
      ]
     },
     "execution_count": 14,
     "metadata": {},
     "output_type": "execute_result"
    }
   ],
   "source": [
    "my_data.dtype"
   ]
  },
  {
   "cell_type": "markdown",
   "id": "f5a9a322",
   "metadata": {},
   "source": [
    "* To see the size of the each unit(eleman), use `itemsize`"
   ]
  },
  {
   "cell_type": "code",
   "execution_count": 15,
   "id": "18e424d7",
   "metadata": {},
   "outputs": [
    {
     "data": {
      "text/plain": [
       "8"
      ]
     },
     "execution_count": 15,
     "metadata": {},
     "output_type": "execute_result"
    }
   ],
   "source": [
    "my_data.itemsize"
   ]
  },
  {
   "cell_type": "markdown",
   "id": "d3399a0b",
   "metadata": {},
   "source": [
    "* Create a matrix that has 2 rows and 5 columns and contains 0 by `np.zeros`. Name it as `sifir`"
   ]
  },
  {
   "cell_type": "code",
   "execution_count": 17,
   "id": "0bd2509f",
   "metadata": {},
   "outputs": [
    {
     "data": {
      "text/plain": [
       "array([[0., 0., 0., 0., 0.],\n",
       "       [0., 0., 0., 0., 0.]])"
      ]
     },
     "execution_count": 17,
     "metadata": {},
     "output_type": "execute_result"
    }
   ],
   "source": [
    "sifir=np.zeros((2,5))\n",
    "sifir"
   ]
  },
  {
   "cell_type": "markdown",
   "id": "70a19252",
   "metadata": {},
   "source": [
    "* Create a matrix that has 2 rows and 5 columns and contains 1 by `np.ones`. Name it as `bir`"
   ]
  },
  {
   "cell_type": "code",
   "execution_count": 18,
   "id": "eb2a9d54",
   "metadata": {},
   "outputs": [
    {
     "data": {
      "text/plain": [
       "array([[1., 1., 1., 1., 1.],\n",
       "       [1., 1., 1., 1., 1.]])"
      ]
     },
     "execution_count": 18,
     "metadata": {},
     "output_type": "execute_result"
    }
   ],
   "source": [
    "bir=np.ones((2,5))\n",
    "bir"
   ]
  },
  {
   "cell_type": "markdown",
   "id": "b5ab5435",
   "metadata": {},
   "source": [
    "* Create a matrix that has 2 rows and 5 columns and contains 38 by `np.full`. Name it as `otuzsekiz`"
   ]
  },
  {
   "cell_type": "code",
   "execution_count": 19,
   "id": "89c8f34a",
   "metadata": {},
   "outputs": [
    {
     "data": {
      "text/plain": [
       "array([[38, 38, 38, 38, 38],\n",
       "       [38, 38, 38, 38, 38]])"
      ]
     },
     "execution_count": 19,
     "metadata": {},
     "output_type": "execute_result"
    }
   ],
   "source": [
    "otuzsekiz=np.full((2,5),38)\n",
    "otuzsekiz"
   ]
  },
  {
   "cell_type": "markdown",
   "id": "e843d7c0",
   "metadata": {},
   "source": [
    "* Create an eye matrix that has 5 rows and 5 columns by `np.eye`. Name it as `eye`"
   ]
  },
  {
   "cell_type": "code",
   "execution_count": 49,
   "id": "269bb738",
   "metadata": {},
   "outputs": [
    {
     "data": {
      "text/plain": [
       "array([[1., 0., 0., 0., 0.],\n",
       "       [0., 1., 0., 0., 0.],\n",
       "       [0., 0., 1., 0., 0.],\n",
       "       [0., 0., 0., 1., 0.],\n",
       "       [0., 0., 0., 0., 1.]])"
      ]
     },
     "execution_count": 49,
     "metadata": {},
     "output_type": "execute_result"
    }
   ],
   "source": [
    "eye=np.eye(5)\n",
    "eye"
   ]
  },
  {
   "cell_type": "markdown",
   "id": "8dfe5ce2",
   "metadata": {},
   "source": [
    "* Create a matrix that has 2 rows and 5 columns and contains random values between 0 and 1 by `np.random.random`. Name it as `random`"
   ]
  },
  {
   "cell_type": "code",
   "execution_count": 32,
   "id": "67678111",
   "metadata": {},
   "outputs": [
    {
     "data": {
      "text/plain": [
       "array([[0.18997941, 0.71925704, 0.65695029, 0.00794711, 0.0212093 ],\n",
       "       [0.6912165 , 0.06436199, 0.26527288, 0.36572647, 0.9524153 ]])"
      ]
     },
     "execution_count": 32,
     "metadata": {},
     "output_type": "execute_result"
    }
   ],
   "source": [
    "random=np.random.random((2,5))\n",
    "random"
   ]
  },
  {
   "cell_type": "markdown",
   "id": "50777038",
   "metadata": {},
   "source": [
    "* Create a matrix that has 2 rows and 5 columns(use `reshape` for that) and contains values increases 1 at a time, and between 1 and 10 by `np.linspace`. Name it as `linsp`"
   ]
  },
  {
   "cell_type": "code",
   "execution_count": 21,
   "id": "e64166b4",
   "metadata": {},
   "outputs": [
    {
     "data": {
      "text/plain": [
       "array([[ 1.,  2.,  3.,  4.,  5.],\n",
       "       [ 6.,  7.,  8.,  9., 10.]])"
      ]
     },
     "execution_count": 21,
     "metadata": {},
     "output_type": "execute_result"
    }
   ],
   "source": [
    "linsp=np.linspace(1,10,10).reshape((2,5))\n",
    "linsp"
   ]
  },
  {
   "cell_type": "markdown",
   "id": "736446d8",
   "metadata": {},
   "source": [
    "* Extract `linsp` with `np.sqrt` and name the result as `linsp`"
   ]
  },
  {
   "cell_type": "code",
   "execution_count": 22,
   "id": "10c257dd",
   "metadata": {},
   "outputs": [
    {
     "data": {
      "text/plain": [
       "array([[1.        , 1.41421356, 1.73205081, 2.        , 2.23606798],\n",
       "       [2.44948974, 2.64575131, 2.82842712, 3.        , 3.16227766]])"
      ]
     },
     "execution_count": 22,
     "metadata": {},
     "output_type": "execute_result"
    }
   ],
   "source": [
    "linsp=np.sqrt(linsp)\n",
    "linsp"
   ]
  },
  {
   "cell_type": "markdown",
   "id": "9bd68b33",
   "metadata": {},
   "source": [
    "* exponentiate `random` and name the result as `random`"
   ]
  },
  {
   "cell_type": "code",
   "execution_count": 34,
   "id": "397f9541",
   "metadata": {},
   "outputs": [
    {
     "data": {
      "text/plain": [
       "array([[3.60921745e-02, 5.17330684e-01, 4.31583684e-01, 6.31564904e-05,\n",
       "        4.49834317e-04],\n",
       "       [4.77780249e-01, 4.14246592e-03, 7.03697032e-02, 1.33755848e-01,\n",
       "        9.07094897e-01]])"
      ]
     },
     "execution_count": 34,
     "metadata": {},
     "output_type": "execute_result"
    }
   ],
   "source": [
    "random=random**2\n",
    "random"
   ]
  },
  {
   "cell_type": "markdown",
   "id": "4b5eaa83",
   "metadata": {},
   "source": [
    "* Sum `linsp` and `random` and name it as `toplam`"
   ]
  },
  {
   "cell_type": "code",
   "execution_count": 35,
   "id": "ded53a25",
   "metadata": {},
   "outputs": [
    {
     "data": {
      "text/plain": [
       "array([[1.03609217, 1.93154425, 2.16363449, 2.00006316, 2.23651781],\n",
       "       [2.92726999, 2.64989378, 2.89879683, 3.13375585, 4.06937256]])"
      ]
     },
     "execution_count": 35,
     "metadata": {},
     "output_type": "execute_result"
    }
   ],
   "source": [
    "toplam=linsp+random\n",
    "toplam"
   ]
  },
  {
   "cell_type": "markdown",
   "id": "e7b4cb2e",
   "metadata": {},
   "source": [
    "* Divide `bir` and `sifir` and name it as `bolme`\n",
    "* If you receive and warning or error, briefly explain why"
   ]
  },
  {
   "cell_type": "code",
   "execution_count": 41,
   "id": "27f91d75",
   "metadata": {},
   "outputs": [
    {
     "data": {
      "text/plain": [
       "array([[1.03609217, 1.93154425, 2.16363449, 2.00006316, 2.23651781],\n",
       "       [2.92726999, 2.64989378, 2.89879683, 3.13375585, 4.06937256]])"
      ]
     },
     "execution_count": 41,
     "metadata": {},
     "output_type": "execute_result"
    }
   ],
   "source": [
    "bolme=toplam/bir\n",
    "bolme"
   ]
  },
  {
   "cell_type": "code",
   "execution_count": 43,
   "id": "ca03b8b3",
   "metadata": {},
   "outputs": [
    {
     "name": "stderr",
     "output_type": "stream",
     "text": [
      "C:\\Users\\DELL\\AppData\\Local\\Temp/ipykernel_8604/3771561852.py:1: RuntimeWarning: divide by zero encountered in true_divide\n",
      "  bolme=toplam/sifir\n"
     ]
    },
    {
     "data": {
      "text/plain": [
       "array([[inf, inf, inf, inf, inf],\n",
       "       [inf, inf, inf, inf, inf]])"
      ]
     },
     "execution_count": 43,
     "metadata": {},
     "output_type": "execute_result"
    }
   ],
   "source": [
    "bolme=toplam/sifir\n",
    "bolme"
   ]
  },
  {
   "cell_type": "code",
   "execution_count": null,
   "id": "034bf014",
   "metadata": {},
   "outputs": [],
   "source": []
  },
  {
   "cell_type": "markdown",
   "id": "b0a1be6a",
   "metadata": {},
   "source": [
    "* Subtract `bir` and `sifir` and name it as `cikarma`"
   ]
  },
  {
   "cell_type": "code",
   "execution_count": 38,
   "id": "763315c4",
   "metadata": {},
   "outputs": [
    {
     "data": {
      "text/plain": [
       "array([[1., 1., 1., 1., 1.],\n",
       "       [1., 1., 1., 1., 1.]])"
      ]
     },
     "execution_count": 38,
     "metadata": {},
     "output_type": "execute_result"
    }
   ],
   "source": [
    "cikarma=bir-sifir\n",
    "cikarma"
   ]
  },
  {
   "cell_type": "markdown",
   "id": "9a218b5b",
   "metadata": {},
   "source": [
    "* divide  `cikarma` and `toplam`. Then, name it as `bolme`"
   ]
  },
  {
   "cell_type": "code",
   "execution_count": 46,
   "id": "4ae2543a",
   "metadata": {},
   "outputs": [
    {
     "data": {
      "text/plain": [
       "array([[0.96516509, 0.51772047, 0.46218527, 0.49998421, 0.44712365],\n",
       "       [0.34161523, 0.37737362, 0.34497071, 0.31910591, 0.24573813]])"
      ]
     },
     "execution_count": 46,
     "metadata": {},
     "output_type": "execute_result"
    }
   ],
   "source": [
    "bolme=cikarma/toplam\n",
    "bolme"
   ]
  },
  {
   "cell_type": "markdown",
   "id": "bcbe2e74",
   "metadata": {},
   "source": [
    "* Multiply `toplam` and `bolme` by element basis and name it as `ecarpma`"
   ]
  },
  {
   "cell_type": "code",
   "execution_count": 47,
   "id": "e545a1d5",
   "metadata": {},
   "outputs": [
    {
     "data": {
      "text/plain": [
       "array([[1., 1., 1., 1., 1.],\n",
       "       [1., 1., 1., 1., 1.]])"
      ]
     },
     "execution_count": 47,
     "metadata": {},
     "output_type": "execute_result"
    }
   ],
   "source": [
    "ecarpma=toplam*bolme\n",
    "ecarpma"
   ]
  },
  {
   "cell_type": "markdown",
   "id": "fe6d61f3",
   "metadata": {},
   "source": [
    "* Multiply `ecarpma` and `eye` by matrix basis and name it as `mcarpma`"
   ]
  },
  {
   "cell_type": "code",
   "execution_count": 55,
   "id": "ad82ddf4",
   "metadata": {},
   "outputs": [
    {
     "data": {
      "text/plain": [
       "array([[1., 1., 1., 1., 1.],\n",
       "       [1., 1., 1., 1., 1.]])"
      ]
     },
     "execution_count": 55,
     "metadata": {},
     "output_type": "execute_result"
    }
   ],
   "source": [
    "mcarpma=ecarpma @ eye\n",
    "mcarpma"
   ]
  },
  {
   "cell_type": "markdown",
   "id": "9b78d343",
   "metadata": {},
   "source": [
    "* Create matrix `a` that has following values:\n",
    "\n",
    "`[[ 1 2 3 4 5]\n",
    "  [ 6 7 8 9 10]]`"
   ]
  },
  {
   "cell_type": "code",
   "execution_count": 61,
   "id": "4d62a2b9",
   "metadata": {},
   "outputs": [
    {
     "data": {
      "text/plain": [
       "array([[ 1,  2,  3,  4,  5],\n",
       "       [ 6,  7,  8,  9, 10]])"
      ]
     },
     "execution_count": 61,
     "metadata": {},
     "output_type": "execute_result"
    }
   ],
   "source": [
    "a=np.array([[ 1, 2, 3, 4, 5],[6 ,7, 8, 9, 10]])\n",
    "a"
   ]
  },
  {
   "cell_type": "markdown",
   "id": "16525a31",
   "metadata": {},
   "source": [
    "* Return the **boolean values** result of the values that are more than 3"
   ]
  },
  {
   "cell_type": "code",
   "execution_count": 62,
   "id": "74145564",
   "metadata": {},
   "outputs": [
    {
     "data": {
      "text/plain": [
       "array([[False, False, False,  True,  True],\n",
       "       [ True,  True,  True,  True,  True]])"
      ]
     },
     "execution_count": 62,
     "metadata": {},
     "output_type": "execute_result"
    }
   ],
   "source": [
    "a>3"
   ]
  },
  {
   "cell_type": "markdown",
   "id": "dda431d5",
   "metadata": {},
   "source": [
    "* Return the values that are more than 3"
   ]
  },
  {
   "cell_type": "code",
   "execution_count": 63,
   "id": "0dc3fa11",
   "metadata": {},
   "outputs": [
    {
     "data": {
      "text/plain": [
       "array([ 4,  5,  6,  7,  8,  9, 10])"
      ]
     },
     "execution_count": 63,
     "metadata": {},
     "output_type": "execute_result"
    }
   ],
   "source": [
    "a[a>3]"
   ]
  },
  {
   "cell_type": "markdown",
   "id": "f95f5cdc",
   "metadata": {},
   "source": [
    "* Set the values that are more than 3 to 0 and name the result as `a`"
   ]
  },
  {
   "cell_type": "code",
   "execution_count": 73,
   "id": "e58c51f3",
   "metadata": {},
   "outputs": [
    {
     "data": {
      "text/plain": [
       "array([[ 1,  2,  3,  4,  5],\n",
       "       [ 6,  7,  8,  9, 10]])"
      ]
     },
     "execution_count": 73,
     "metadata": {},
     "output_type": "execute_result"
    }
   ],
   "source": [
    "a[a>3]==0\n",
    "a"
   ]
  },
  {
   "cell_type": "markdown",
   "id": "64b5d06d",
   "metadata": {},
   "source": [
    "* Join `a` and `mcarpma ` by using stack functions(`axis=1`) and name it as `stc`"
   ]
  },
  {
   "cell_type": "code",
   "execution_count": 74,
   "id": "8c9f5da3",
   "metadata": {},
   "outputs": [
    {
     "data": {
      "text/plain": [
       "array([[[ 1.,  2.,  3.,  4.,  5.],\n",
       "        [ 1.,  1.,  1.,  1.,  1.]],\n",
       "\n",
       "       [[ 6.,  7.,  8.,  9., 10.],\n",
       "        [ 1.,  1.,  1.,  1.,  1.]]])"
      ]
     },
     "execution_count": 74,
     "metadata": {},
     "output_type": "execute_result"
    }
   ],
   "source": [
    "stc=np.stack((a,mcarpma),axis=1)\n",
    "stc"
   ]
  },
  {
   "cell_type": "markdown",
   "id": "64e6e404",
   "metadata": {},
   "source": [
    "* Take the 1'st and 3'rd rows from `stc`, assign them to a new matrix.Name this new matrix as `guncel`"
   ]
  },
  {
   "cell_type": "code",
   "execution_count": 68,
   "id": "56449096",
   "metadata": {},
   "outputs": [
    {
     "data": {
      "text/plain": [
       "array([[[ 1.,  2.,  3.,  4.,  5.]],\n",
       "\n",
       "       [[ 6.,  7.,  8.,  9., 10.]]])"
      ]
     },
     "execution_count": 68,
     "metadata": {},
     "output_type": "execute_result"
    }
   ],
   "source": [
    "guncel=stc[:,0:1]\n",
    "guncel"
   ]
  },
  {
   "cell_type": "markdown",
   "id": "0a8dcab4",
   "metadata": {},
   "source": [
    "* Make guncel 2 dimensional array."
   ]
  },
  {
   "cell_type": "code",
   "execution_count": 71,
   "id": "315eb5ea",
   "metadata": {},
   "outputs": [
    {
     "data": {
      "text/plain": [
       "3"
      ]
     },
     "execution_count": 71,
     "metadata": {},
     "output_type": "execute_result"
    }
   ],
   "source": [
    "guncel=guncel.reshape(2,5)\n",
    "gncel.ndim"
   ]
  },
  {
   "cell_type": "markdown",
   "id": "17ccd507",
   "metadata": {},
   "source": [
    "* Do you remember the `my_data` that we defined above?\n",
    "* Join `my_data` with `guncel` by using `concatenate` method vertically(alt alta). Name the result as `data`"
   ]
  },
  {
   "cell_type": "code",
   "execution_count": 80,
   "id": "61084130",
   "metadata": {},
   "outputs": [
    {
     "data": {
      "text/plain": [
       "array([[2.00e+00, 5.00e+01, 1.25e+04, 9.80e+01, 1.00e+00],\n",
       "       [0.00e+00, 1.30e+01, 3.25e+03, 2.80e+01, 1.00e+00],\n",
       "       [1.00e+00, 1.60e+01, 4.00e+03, 3.50e+01, 1.00e+00],\n",
       "       ...,\n",
       "       [7.20e+01, 1.00e+00, 2.50e+02, 7.20e+01, 0.00e+00],\n",
       "       [1.00e+00, 2.00e+00, 3.00e+00, 4.00e+00, 5.00e+00],\n",
       "       [6.00e+00, 7.00e+00, 8.00e+00, 9.00e+00, 1.00e+01]])"
      ]
     },
     "execution_count": 80,
     "metadata": {},
     "output_type": "execute_result"
    }
   ],
   "source": [
    "data=np.concatenate((my_data,guncel),axis=0)\n",
    "data"
   ]
  },
  {
   "cell_type": "markdown",
   "id": "714b5949",
   "metadata": {},
   "source": [
    "* Sum the columns of `data`"
   ]
  },
  {
   "cell_type": "code",
   "execution_count": 82,
   "id": "7960f8aa",
   "metadata": {},
   "outputs": [
    {
     "data": {
      "text/plain": [
       "array([7.118000e+03, 4.134000e+03, 1.031261e+06, 2.565600e+04,\n",
       "       1.930000e+02])"
      ]
     },
     "execution_count": 82,
     "metadata": {},
     "output_type": "execute_result"
    }
   ],
   "source": [
    "data.sum(axis=0)"
   ]
  },
  {
   "cell_type": "markdown",
   "id": "bd38ca4c",
   "metadata": {},
   "source": [
    "* Sum the rows of `data`"
   ]
  },
  {
   "cell_type": "code",
   "execution_count": 84,
   "id": "8e5f4def",
   "metadata": {},
   "outputs": [
    {
     "data": {
      "text/plain": [
       "array([12651.,  3292.,  4053.,  5068.,  6102.,  1012.,  1774.,  3048.,\n",
       "        2284., 11650.,  5835.,   757.,  2541.,  3311.,  1524.,  1269.,\n",
       "        3565.,  3817.,  1524.,   760.,   760.,  2793.,  1525.,  1525.,\n",
       "        2284.,  3558.,  1524.,  3051.,  1271.,  2033.,  3573.,  2543.,\n",
       "        2543.,  2290.,  4082.,  2039.,  3062.,  1527.,  3574.,  1784.,\n",
       "        3319.,  1273.,  1274.,  1273.,  5094.,  2292.,  2297.,   506.,\n",
       "         506.,   506.,  2809.,  2810.,  1530.,  3066.,  1274.,  4843.,\n",
       "        2039.,  1788.,  4099.,  1530.,  1788.,  2046.,  2561.,  1276.,\n",
       "         765.,  4093.,  1021.,   506.,  1786.,  2311.,  1022.,  1022.,\n",
       "        4343.,   508.,   509.,   509.,  1023.,   508.,   508.,   508.,\n",
       "        1534.,  1022.,  1022.,  1022.,  1537.,  1536.,   510.,   510.,\n",
       "         510.,  1795.,   511.,   510.,   510.,   510.,  2796.,  1789.,\n",
       "        4356.,  2302.,  1023.,  1789.,  2047.,  3342.,  2303.,  1283.,\n",
       "        1283.,  4343.,  2067.,  1284.,   769.,  2576.,  1283.,  2309.,\n",
       "        1282.,  2053.,  3096.,  6099.,  1806.,  2826.,  1815.,  2843.,\n",
       "         772.,  1286.,  1550.,  1291.,  1032.,  1291.,  2059.,  1032.,\n",
       "        2061.,   515.,  1287.,  3109.,   514.,  1545.,  2851.,   774.,\n",
       "        1294.,  3112.,  1283.,   515.,  2335.,  3605.,   773.,   773.,\n",
       "         516.,   774.,   773.,   515.,   516.,   515.,  1818.,  1549.,\n",
       "        2843.,   256.,   255.,   255.,   255.,   255.,   255.,   255.,\n",
       "         255.,   255.,   255.,   256.,   256.,   256.,   255.,   255.,\n",
       "         255.,   255.,   255.,   255.,   255.,   255.,   255.,  2556.,\n",
       "        1032.,  1293.,  1552.,   777.,  1035.,  1030.,  1041.,  3104.,\n",
       "        2047.,  2303.,  1293.,  1034.,  3850.,  1295.,  1813.,  1813.,\n",
       "        1041.,  2814.,   518.,  1305.,  2056.,  1557.,  1797.,  2313.,\n",
       "        1562.,  1819.,   520.,  1819.,  2308.,  1543.,   520.,  1835.,\n",
       "        1544.,   778.,   259.,   259.,   259.,   259.,   259.,   260.,\n",
       "         259.,   259.,   259.,   259.,   259.,   260.,   260.,   259.,\n",
       "         260.,   260.,   259.,   781.,   259.,   259.,   259.,   260.,\n",
       "         259.,  2057.,  1797.,  2581.,   779.,   520.,  1049.,  2325.,\n",
       "        2069.,  5631.,   783.,  4358.,   522.,  1305.,  3081.,  3105.,\n",
       "         524.,   524.,   524.,  1583.,  2061.,   781.,  3334.,   790.,\n",
       "        2052.,  1805.,   785.,  3082.,  1049.,  3599.,   527.,   794.,\n",
       "        1317.,  1052.,   528.,  2065.,  1843.,  1038.,  2817.,  1801.,\n",
       "         525.,  1317.,  1317.,  1054.,  3334.,   791.,  4610.,  2067.,\n",
       "        4100.,  1041.,  1295.,   526.,  1299.,   527.,   529.,   528.,\n",
       "        1298.,   787.,  1042.,  3078.,  1043.,  1301.,  1301.,  1076.,\n",
       "        1297.,   530.,   530.,   530.,   530.,   530.,   530.,   807.,\n",
       "        1554.,  1304.,  1333.,   787.,  1043.,   788.,  1304.,   529.,\n",
       "        2331.,   269.,   269.,   535.,   530.,  1044.,  2343.,  1307.,\n",
       "        4113.,  1316.,  1049.,  2073.,  1811.,   532.,   545.,  4128.,\n",
       "        1047.,  1812.,  1818.,  1557.,  1558.,  1831.,   534.,   791.,\n",
       "         792.,  1832.,   274.,   796.,  1048.,  9659.,  1575.,   273.,\n",
       "         273.,   273.,   273.,   273.,   273.,   273.,   273.,   534.,\n",
       "        1316.,   534.,  1048.,   547.,  1562.,   793.,   537.,  4101.,\n",
       "        1571.,   537.,   828.,  3341.,  1588.,   538.,  3845.,  1056.,\n",
       "         539.,  1312.,   558.,   798.,   558.,  1078.,  1058.,   805.,\n",
       "        1319.,   279.,   279.,   279.,   279.,   279.,   279.,   279.,\n",
       "         279.,  1843.,   279.,   279.,   814.,  1844.,  1073.,  1074.,\n",
       "         565.,  1076.,  1060.,  2615.,   545.,   800.,  2100.,   801.,\n",
       "         543.,  1311.,  2077.,   803.,  1333.,   808.,   283.,   283.,\n",
       "         283.,   283.,   283.,   283.,   283.,  1065.,   283.,   283.,\n",
       "         283.,   283.,   283.,   544.,   546.,   545.,   546.,   546.,\n",
       "        1075.,  1331.,   548.,  1343.,   804.,   809.,   563.,   563.,\n",
       "        1861.,  1082.,   551.,  1866.,   548.,   819.,  3630.,  2121.,\n",
       "         815.,   840.,   565.,   840.,  3121.,   809.,   551.,   551.,\n",
       "        2095.,   819.,   809.,   812.,   553.,   293.,   293.,   293.,\n",
       "         293.,   293.,   293.,   293.,   293.,   293.,   294.,   293.,\n",
       "         293.,  1336.,  1072.,  1077.,   296.,   583.,  1336.,   816.,\n",
       "         817.,   850.,   558.,  1331.,  1599.,   297.,   297.,   297.,\n",
       "         297.,   297.,   297.,   297.,   297.,  1080.,  1613.,   824.,\n",
       "         564.,   838.,   588.,   844.,  1114.,   865.,   612.,   852.,\n",
       "         327.,   327.,   331.,   399., 10882.,  5557.,  8614., 11144.,\n",
       "        6603., 10392.,  5317.,  2786.,  5326.,  3298.,  1013.,  2789.,\n",
       "        2791.,  3552.,  4059.,  1524.,  1271.,  8386.,  2547.,  2543.,\n",
       "        2804.,  2805.,  3307.,  2555.,  2291.,  1017.,  1274.,  3831.,\n",
       "        6108.,  1531.,  1276.,  1021.,  2040.,  1020.,  1534.,  1276.,\n",
       "        1792.,  1535.,  2049.,   509.,  1537.,  2564.,  4091.,   511.,\n",
       "        3610.,   511.,  3569.,   766.,  3085.,  1794.,  1024.,  1544.,\n",
       "        1539.,   769.,  1029.,  1026.,  1539.,  1540.,  1283.,  2061.,\n",
       "        2830.,  2315.,  4119.,  2564.,  3604.,  2336.,  1545.,  2318.,\n",
       "        1546.,  1553.,  1555.,   515.,   516.,   515.,   516.,  1549.,\n",
       "        1037.,  2306.,  1284.,   776.,   255.,   256.,   255.,   255.,\n",
       "         255.,   255.,   256.,   255.,   255.,   255.,   255.,  2810.,\n",
       "         777.,  2820.,  2841.,  1296.,   258.,  1553.,   779.,  2812.,\n",
       "         518.,  1556.,   776.,  2048.,   519.,  2860.,  1836.,  1836.,\n",
       "         259.,   259.,   259.,   259.,   260.,   259.,   259.,   259.,\n",
       "         259.,   259.,   260.,   259.,  1823.,   259.,  1043.,  1545.,\n",
       "         781.,  1297.,  2322.,   524.,  1320.,  2857.,  2331.,   526.,\n",
       "         785.,  3848.,   782.,  4116.,  1317.,  1806.,  1042.,  2356.,\n",
       "        2072.,  1314.,  1558.,  1303.,   531.,   530.,   530.,   537.,\n",
       "         787.,  2068.,   269.,  1298.,  1044.,   536.,   788.,  4109.,\n",
       "         537.,  2072.,   790.,  1816.,  1303.,   534.,   790.,  2091.,\n",
       "         273.,   273.,   273.,   274.,   273.,   831.,   832.,  1048.,\n",
       "        3868.,  3613.,  2588.,   792.,   793.,  4854.,  1843.,   795.,\n",
       "        3604.,   552.,   538.,   801.,  1053.,  1816.,  1846.,  1572.,\n",
       "         800.,   279.,   279.,   279.,   279.,   279.,   279.,  1833.,\n",
       "         802.,   802.,  1837.,   544.,   804.,   283.,   283.,   283.,\n",
       "         283.,   283.,   545.,  1089.,   552.,  1575.,   548.,  1574.,\n",
       "         552.,  1603.,  1078.,  1342.,   549.,   809.,   809.,  2100.,\n",
       "         812.,   811.,   814.,   553.,   293.,   293.,  1581.,   293.,\n",
       "         293.,   815.,   556.,   846.,   298.,   297.,   297.,   297.,\n",
       "         297.,   297.,   297.,  1079.,   297.,  1868.,   855.,   563.,\n",
       "         575.,   838.,   329.,   395.,    15.,    40.])"
      ]
     },
     "execution_count": 84,
     "metadata": {},
     "output_type": "execute_result"
    }
   ],
   "source": [
    "data.sum(axis=1)"
   ]
  },
  {
   "cell_type": "markdown",
   "id": "b3becb78",
   "metadata": {},
   "source": [
    "* Return the maximum values of each column"
   ]
  },
  {
   "cell_type": "code",
   "execution_count": 85,
   "id": "256c4b64",
   "metadata": {},
   "outputs": [
    {
     "data": {
      "text/plain": [
       "array([7.40e+01, 5.00e+01, 1.25e+04, 9.80e+01, 1.00e+01])"
      ]
     },
     "execution_count": 85,
     "metadata": {},
     "output_type": "execute_result"
    }
   ],
   "source": [
    "#np.amax(data,axis=0)\n",
    "data.max(axis=0)"
   ]
  },
  {
   "cell_type": "markdown",
   "id": "4e9c4dea",
   "metadata": {},
   "source": [
    "* Return the maximum values of each row"
   ]
  },
  {
   "cell_type": "code",
   "execution_count": 86,
   "id": "a7d3eee3",
   "metadata": {},
   "outputs": [
    {
     "data": {
      "text/plain": [
       "array([1.250e+04, 3.250e+03, 4.000e+03, 5.000e+03, 6.000e+03, 1.000e+03,\n",
       "       1.750e+03, 3.000e+03, 2.250e+03, 1.150e+04, 5.750e+03, 7.500e+02,\n",
       "       2.500e+03, 3.250e+03, 1.500e+03, 1.250e+03, 3.500e+03, 3.750e+03,\n",
       "       1.500e+03, 7.500e+02, 7.500e+02, 2.750e+03, 1.500e+03, 1.500e+03,\n",
       "       2.250e+03, 3.500e+03, 1.500e+03, 3.000e+03, 1.250e+03, 2.000e+03,\n",
       "       3.500e+03, 2.500e+03, 2.500e+03, 2.250e+03, 4.000e+03, 2.000e+03,\n",
       "       3.000e+03, 1.500e+03, 3.500e+03, 1.750e+03, 3.250e+03, 1.250e+03,\n",
       "       1.250e+03, 1.250e+03, 5.000e+03, 2.250e+03, 2.250e+03, 5.000e+02,\n",
       "       5.000e+02, 5.000e+02, 2.750e+03, 2.750e+03, 1.500e+03, 3.000e+03,\n",
       "       1.250e+03, 4.750e+03, 2.000e+03, 1.750e+03, 4.000e+03, 1.500e+03,\n",
       "       1.750e+03, 2.000e+03, 2.500e+03, 1.250e+03, 7.500e+02, 4.000e+03,\n",
       "       1.000e+03, 5.000e+02, 1.750e+03, 2.250e+03, 1.000e+03, 1.000e+03,\n",
       "       4.250e+03, 5.000e+02, 5.000e+02, 5.000e+02, 1.000e+03, 5.000e+02,\n",
       "       5.000e+02, 5.000e+02, 1.500e+03, 1.000e+03, 1.000e+03, 1.000e+03,\n",
       "       1.500e+03, 1.500e+03, 5.000e+02, 5.000e+02, 5.000e+02, 1.750e+03,\n",
       "       5.000e+02, 5.000e+02, 5.000e+02, 5.000e+02, 2.750e+03, 1.750e+03,\n",
       "       4.250e+03, 2.250e+03, 1.000e+03, 1.750e+03, 2.000e+03, 3.250e+03,\n",
       "       2.250e+03, 1.250e+03, 1.250e+03, 4.250e+03, 2.000e+03, 1.250e+03,\n",
       "       7.500e+02, 2.500e+03, 1.250e+03, 2.250e+03, 1.250e+03, 2.000e+03,\n",
       "       3.000e+03, 6.000e+03, 1.750e+03, 2.750e+03, 1.750e+03, 2.750e+03,\n",
       "       7.500e+02, 1.250e+03, 1.500e+03, 1.250e+03, 1.000e+03, 1.250e+03,\n",
       "       2.000e+03, 1.000e+03, 2.000e+03, 5.000e+02, 1.250e+03, 3.000e+03,\n",
       "       5.000e+02, 1.500e+03, 2.750e+03, 7.500e+02, 1.250e+03, 3.000e+03,\n",
       "       1.250e+03, 5.000e+02, 2.250e+03, 3.500e+03, 7.500e+02, 7.500e+02,\n",
       "       5.000e+02, 7.500e+02, 7.500e+02, 5.000e+02, 5.000e+02, 5.000e+02,\n",
       "       1.750e+03, 1.500e+03, 2.750e+03, 2.500e+02, 2.500e+02, 2.500e+02,\n",
       "       2.500e+02, 2.500e+02, 2.500e+02, 2.500e+02, 2.500e+02, 2.500e+02,\n",
       "       2.500e+02, 2.500e+02, 2.500e+02, 2.500e+02, 2.500e+02, 2.500e+02,\n",
       "       2.500e+02, 2.500e+02, 2.500e+02, 2.500e+02, 2.500e+02, 2.500e+02,\n",
       "       2.500e+02, 2.500e+03, 1.000e+03, 1.250e+03, 1.500e+03, 7.500e+02,\n",
       "       1.000e+03, 1.000e+03, 1.000e+03, 3.000e+03, 2.000e+03, 2.250e+03,\n",
       "       1.250e+03, 1.000e+03, 3.750e+03, 1.250e+03, 1.750e+03, 1.750e+03,\n",
       "       1.000e+03, 2.750e+03, 5.000e+02, 1.250e+03, 2.000e+03, 1.500e+03,\n",
       "       1.750e+03, 2.250e+03, 1.500e+03, 1.750e+03, 5.000e+02, 1.750e+03,\n",
       "       2.250e+03, 1.500e+03, 5.000e+02, 1.750e+03, 1.500e+03, 7.500e+02,\n",
       "       2.500e+02, 2.500e+02, 2.500e+02, 2.500e+02, 2.500e+02, 2.500e+02,\n",
       "       2.500e+02, 2.500e+02, 2.500e+02, 2.500e+02, 2.500e+02, 2.500e+02,\n",
       "       2.500e+02, 2.500e+02, 2.500e+02, 2.500e+02, 2.500e+02, 7.500e+02,\n",
       "       2.500e+02, 2.500e+02, 2.500e+02, 2.500e+02, 2.500e+02, 2.000e+03,\n",
       "       1.750e+03, 2.500e+03, 7.500e+02, 5.000e+02, 1.000e+03, 2.250e+03,\n",
       "       2.000e+03, 5.500e+03, 7.500e+02, 4.250e+03, 5.000e+02, 1.250e+03,\n",
       "       3.000e+03, 3.000e+03, 5.000e+02, 5.000e+02, 5.000e+02, 1.500e+03,\n",
       "       2.000e+03, 7.500e+02, 3.250e+03, 7.500e+02, 2.000e+03, 1.750e+03,\n",
       "       7.500e+02, 3.000e+03, 1.000e+03, 3.500e+03, 5.000e+02, 7.500e+02,\n",
       "       1.250e+03, 1.000e+03, 5.000e+02, 2.000e+03, 1.750e+03, 1.000e+03,\n",
       "       2.750e+03, 1.750e+03, 5.000e+02, 1.250e+03, 1.250e+03, 1.000e+03,\n",
       "       3.250e+03, 7.500e+02, 4.500e+03, 2.000e+03, 4.000e+03, 1.000e+03,\n",
       "       1.250e+03, 5.000e+02, 1.250e+03, 5.000e+02, 5.000e+02, 5.000e+02,\n",
       "       1.250e+03, 7.500e+02, 1.000e+03, 3.000e+03, 1.000e+03, 1.250e+03,\n",
       "       1.250e+03, 1.000e+03, 1.250e+03, 5.000e+02, 5.000e+02, 5.000e+02,\n",
       "       5.000e+02, 5.000e+02, 5.000e+02, 7.500e+02, 1.500e+03, 1.250e+03,\n",
       "       1.250e+03, 7.500e+02, 1.000e+03, 7.500e+02, 1.250e+03, 5.000e+02,\n",
       "       2.250e+03, 2.500e+02, 2.500e+02, 5.000e+02, 5.000e+02, 1.000e+03,\n",
       "       2.250e+03, 1.250e+03, 4.000e+03, 1.250e+03, 1.000e+03, 2.000e+03,\n",
       "       1.750e+03, 5.000e+02, 5.000e+02, 4.000e+03, 1.000e+03, 1.750e+03,\n",
       "       1.750e+03, 1.500e+03, 1.500e+03, 1.750e+03, 5.000e+02, 7.500e+02,\n",
       "       7.500e+02, 1.750e+03, 2.500e+02, 7.500e+02, 1.000e+03, 9.500e+03,\n",
       "       1.500e+03, 2.500e+02, 2.500e+02, 2.500e+02, 2.500e+02, 2.500e+02,\n",
       "       2.500e+02, 2.500e+02, 2.500e+02, 5.000e+02, 1.250e+03, 5.000e+02,\n",
       "       1.000e+03, 5.000e+02, 1.500e+03, 7.500e+02, 5.000e+02, 4.000e+03,\n",
       "       1.500e+03, 5.000e+02, 7.500e+02, 3.250e+03, 1.500e+03, 5.000e+02,\n",
       "       3.750e+03, 1.000e+03, 5.000e+02, 1.250e+03, 5.000e+02, 7.500e+02,\n",
       "       5.000e+02, 1.000e+03, 1.000e+03, 7.500e+02, 1.250e+03, 2.500e+02,\n",
       "       2.500e+02, 2.500e+02, 2.500e+02, 2.500e+02, 2.500e+02, 2.500e+02,\n",
       "       2.500e+02, 1.750e+03, 2.500e+02, 2.500e+02, 7.500e+02, 1.750e+03,\n",
       "       1.000e+03, 1.000e+03, 5.000e+02, 1.000e+03, 1.000e+03, 2.500e+03,\n",
       "       5.000e+02, 7.500e+02, 2.000e+03, 7.500e+02, 5.000e+02, 1.250e+03,\n",
       "       2.000e+03, 7.500e+02, 1.250e+03, 7.500e+02, 2.500e+02, 2.500e+02,\n",
       "       2.500e+02, 2.500e+02, 2.500e+02, 2.500e+02, 2.500e+02, 1.000e+03,\n",
       "       2.500e+02, 2.500e+02, 2.500e+02, 2.500e+02, 2.500e+02, 5.000e+02,\n",
       "       5.000e+02, 5.000e+02, 5.000e+02, 5.000e+02, 1.000e+03, 1.250e+03,\n",
       "       5.000e+02, 1.250e+03, 7.500e+02, 7.500e+02, 5.000e+02, 5.000e+02,\n",
       "       1.750e+03, 1.000e+03, 5.000e+02, 1.750e+03, 5.000e+02, 7.500e+02,\n",
       "       3.500e+03, 2.000e+03, 7.500e+02, 7.500e+02, 5.000e+02, 7.500e+02,\n",
       "       3.000e+03, 7.500e+02, 5.000e+02, 5.000e+02, 2.000e+03, 7.500e+02,\n",
       "       7.500e+02, 7.500e+02, 5.000e+02, 2.500e+02, 2.500e+02, 2.500e+02,\n",
       "       2.500e+02, 2.500e+02, 2.500e+02, 2.500e+02, 2.500e+02, 2.500e+02,\n",
       "       2.500e+02, 2.500e+02, 2.500e+02, 1.250e+03, 1.000e+03, 1.000e+03,\n",
       "       2.500e+02, 5.000e+02, 1.250e+03, 7.500e+02, 7.500e+02, 7.500e+02,\n",
       "       5.000e+02, 1.250e+03, 1.500e+03, 2.500e+02, 2.500e+02, 2.500e+02,\n",
       "       2.500e+02, 2.500e+02, 2.500e+02, 2.500e+02, 2.500e+02, 1.000e+03,\n",
       "       1.500e+03, 7.500e+02, 5.000e+02, 7.500e+02, 5.000e+02, 7.500e+02,\n",
       "       1.000e+03, 7.500e+02, 5.000e+02, 7.500e+02, 2.500e+02, 2.500e+02,\n",
       "       2.500e+02, 2.500e+02, 1.075e+04, 5.500e+03, 8.500e+03, 1.100e+04,\n",
       "       6.500e+03, 1.025e+04, 5.250e+03, 2.750e+03, 5.250e+03, 3.250e+03,\n",
       "       1.000e+03, 2.750e+03, 2.750e+03, 3.500e+03, 4.000e+03, 1.500e+03,\n",
       "       1.250e+03, 8.250e+03, 2.500e+03, 2.500e+03, 2.750e+03, 2.750e+03,\n",
       "       3.250e+03, 2.500e+03, 2.250e+03, 1.000e+03, 1.250e+03, 3.750e+03,\n",
       "       6.000e+03, 1.500e+03, 1.250e+03, 1.000e+03, 2.000e+03, 1.000e+03,\n",
       "       1.500e+03, 1.250e+03, 1.750e+03, 1.500e+03, 2.000e+03, 5.000e+02,\n",
       "       1.500e+03, 2.500e+03, 4.000e+03, 5.000e+02, 3.500e+03, 5.000e+02,\n",
       "       3.500e+03, 7.500e+02, 3.000e+03, 1.750e+03, 1.000e+03, 1.500e+03,\n",
       "       1.500e+03, 7.500e+02, 1.000e+03, 1.000e+03, 1.500e+03, 1.500e+03,\n",
       "       1.250e+03, 2.000e+03, 2.750e+03, 2.250e+03, 4.000e+03, 2.500e+03,\n",
       "       3.500e+03, 2.250e+03, 1.500e+03, 2.250e+03, 1.500e+03, 1.500e+03,\n",
       "       1.500e+03, 5.000e+02, 5.000e+02, 5.000e+02, 5.000e+02, 1.500e+03,\n",
       "       1.000e+03, 2.250e+03, 1.250e+03, 7.500e+02, 2.500e+02, 2.500e+02,\n",
       "       2.500e+02, 2.500e+02, 2.500e+02, 2.500e+02, 2.500e+02, 2.500e+02,\n",
       "       2.500e+02, 2.500e+02, 2.500e+02, 2.750e+03, 7.500e+02, 2.750e+03,\n",
       "       2.750e+03, 1.250e+03, 2.500e+02, 1.500e+03, 7.500e+02, 2.750e+03,\n",
       "       5.000e+02, 1.500e+03, 7.500e+02, 2.000e+03, 5.000e+02, 2.750e+03,\n",
       "       1.750e+03, 1.750e+03, 2.500e+02, 2.500e+02, 2.500e+02, 2.500e+02,\n",
       "       2.500e+02, 2.500e+02, 2.500e+02, 2.500e+02, 2.500e+02, 2.500e+02,\n",
       "       2.500e+02, 2.500e+02, 1.750e+03, 2.500e+02, 1.000e+03, 1.500e+03,\n",
       "       7.500e+02, 1.250e+03, 2.250e+03, 5.000e+02, 1.250e+03, 2.750e+03,\n",
       "       2.250e+03, 5.000e+02, 7.500e+02, 3.750e+03, 7.500e+02, 4.000e+03,\n",
       "       1.250e+03, 1.750e+03, 1.000e+03, 2.250e+03, 2.000e+03, 1.250e+03,\n",
       "       1.500e+03, 1.250e+03, 5.000e+02, 5.000e+02, 5.000e+02, 5.000e+02,\n",
       "       7.500e+02, 2.000e+03, 2.500e+02, 1.250e+03, 1.000e+03, 5.000e+02,\n",
       "       7.500e+02, 4.000e+03, 5.000e+02, 2.000e+03, 7.500e+02, 1.750e+03,\n",
       "       1.250e+03, 5.000e+02, 7.500e+02, 2.000e+03, 2.500e+02, 2.500e+02,\n",
       "       2.500e+02, 2.500e+02, 2.500e+02, 7.500e+02, 7.500e+02, 1.000e+03,\n",
       "       3.750e+03, 3.500e+03, 2.500e+03, 7.500e+02, 7.500e+02, 4.750e+03,\n",
       "       1.750e+03, 7.500e+02, 3.500e+03, 5.000e+02, 5.000e+02, 7.500e+02,\n",
       "       1.000e+03, 1.750e+03, 1.750e+03, 1.500e+03, 7.500e+02, 2.500e+02,\n",
       "       2.500e+02, 2.500e+02, 2.500e+02, 2.500e+02, 2.500e+02, 1.750e+03,\n",
       "       7.500e+02, 7.500e+02, 1.750e+03, 5.000e+02, 7.500e+02, 2.500e+02,\n",
       "       2.500e+02, 2.500e+02, 2.500e+02, 2.500e+02, 5.000e+02, 1.000e+03,\n",
       "       5.000e+02, 1.500e+03, 5.000e+02, 1.500e+03, 5.000e+02, 1.500e+03,\n",
       "       1.000e+03, 1.250e+03, 5.000e+02, 7.500e+02, 7.500e+02, 2.000e+03,\n",
       "       7.500e+02, 7.500e+02, 7.500e+02, 5.000e+02, 2.500e+02, 2.500e+02,\n",
       "       1.500e+03, 2.500e+02, 2.500e+02, 7.500e+02, 5.000e+02, 7.500e+02,\n",
       "       2.500e+02, 2.500e+02, 2.500e+02, 2.500e+02, 2.500e+02, 2.500e+02,\n",
       "       2.500e+02, 1.000e+03, 2.500e+02, 1.750e+03, 7.500e+02, 5.000e+02,\n",
       "       5.000e+02, 7.500e+02, 2.500e+02, 2.500e+02, 5.000e+00, 1.000e+01])"
      ]
     },
     "execution_count": 86,
     "metadata": {},
     "output_type": "execute_result"
    }
   ],
   "source": [
    "data.max(axis=1)\n",
    "#np.amax(data,axis=1)"
   ]
  },
  {
   "cell_type": "markdown",
   "id": "369fc40e",
   "metadata": {},
   "source": [
    "* Return the minimum values of each column"
   ]
  },
  {
   "cell_type": "code",
   "execution_count": 87,
   "id": "bb24f5cd",
   "metadata": {},
   "outputs": [
    {
     "data": {
      "text/plain": [
       "array([0., 1., 3., 2., 0.])"
      ]
     },
     "execution_count": 87,
     "metadata": {},
     "output_type": "execute_result"
    }
   ],
   "source": [
    "data.min(axis=0)"
   ]
  },
  {
   "cell_type": "markdown",
   "id": "19e1b704",
   "metadata": {},
   "source": [
    "* Return the minimum values of each row"
   ]
  },
  {
   "cell_type": "code",
   "execution_count": 88,
   "id": "c2e0b02b",
   "metadata": {},
   "outputs": [
    {
     "data": {
      "text/plain": [
       "array([1., 0., 1., 1., 0., 0., 1., 0., 1., 1., 0., 0., 1., 0., 1., 1., 1.,\n",
       "       1., 1., 1., 1., 0., 1., 1., 0., 0., 0., 1., 1., 0., 0., 1., 1., 1.,\n",
       "       0., 1., 1., 1., 1., 1., 1., 0., 1., 0., 1., 1., 0., 0., 0., 0., 0.,\n",
       "       1., 0., 0., 1., 1., 1., 1., 0., 0., 0., 1., 0., 1., 1., 0., 1., 0.,\n",
       "       0., 0., 0., 0., 1., 0., 1., 1., 1., 0., 0., 0., 1., 0., 0., 0., 1.,\n",
       "       0., 0., 0., 0., 1., 1., 0., 0., 0., 0., 0., 0., 1., 1., 1., 1., 1.,\n",
       "       0., 0., 0., 0., 0., 0., 0., 0., 1., 0., 0., 1., 0., 0., 1., 0., 0.,\n",
       "       1., 1., 1., 1., 1., 0., 0., 1., 0., 1., 1., 0., 0., 0., 0., 0., 0.,\n",
       "       0., 0., 0., 0., 0., 0., 0., 0., 1., 1., 0., 0., 1., 0., 1., 0., 0.,\n",
       "       1., 0., 0., 0., 0., 0., 0., 0., 0., 0., 1., 1., 1., 0., 0., 0., 0.,\n",
       "       0., 0., 0., 0., 0., 0., 1., 1., 1., 0., 1., 0., 0., 0., 0., 0., 0.,\n",
       "       0., 0., 1., 0., 0., 0., 0., 0., 1., 1., 0., 0., 0., 0., 0., 1., 0.,\n",
       "       0., 0., 0., 0., 0., 0., 0., 0., 0., 0., 0., 1., 0., 0., 0., 0., 0.,\n",
       "       1., 1., 0., 1., 1., 0., 0., 0., 0., 0., 1., 0., 0., 0., 0., 0., 0.,\n",
       "       0., 0., 1., 0., 1., 1., 0., 0., 0., 0., 0., 0., 0., 0., 1., 1., 0.,\n",
       "       0., 0., 0., 0., 0., 0., 1., 0., 1., 0., 1., 0., 0., 0., 0., 0., 0.,\n",
       "       0., 0., 0., 0., 0., 0., 0., 0., 0., 1., 0., 0., 0., 0., 0., 1., 1.,\n",
       "       1., 1., 0., 0., 0., 0., 0., 0., 0., 0., 0., 0., 0., 0., 0., 0., 1.,\n",
       "       0., 0., 0., 0., 0., 0., 0., 0., 0., 0., 0., 0., 1., 0., 0., 1., 0.,\n",
       "       1., 0., 0., 0., 0., 1., 0., 0., 0., 1., 1., 0., 1., 0., 0., 1., 0.,\n",
       "       0., 0., 0., 0., 0., 0., 0., 0., 0., 0., 0., 0., 0., 0., 0., 0., 0.,\n",
       "       0., 0., 0., 0., 0., 0., 0., 0., 1., 0., 0., 0., 1., 1., 0., 0., 0.,\n",
       "       0., 1., 0., 0., 0., 0., 0., 0., 0., 0., 0., 0., 0., 0., 0., 0., 0.,\n",
       "       0., 0., 0., 0., 0., 1., 0., 0., 1., 0., 0., 0., 0., 0., 0., 0., 0.,\n",
       "       0., 0., 0., 0., 0., 0., 0., 0., 0., 0., 0., 0., 0., 0., 0., 0., 0.,\n",
       "       0., 0., 0., 0., 0., 0., 0., 1., 0., 0., 0., 0., 0., 0., 0., 0., 0.,\n",
       "       0., 0., 0., 0., 0., 0., 0., 0., 0., 0., 0., 0., 0., 0., 0., 0., 0.,\n",
       "       0., 0., 0., 1., 0., 0., 0., 0., 0., 1., 0., 0., 0., 0., 0., 0., 1.,\n",
       "       0., 0., 0., 0., 0., 0., 0., 0., 0., 0., 0., 0., 0., 0., 0., 0., 0.,\n",
       "       0., 0., 0., 0., 0., 0., 0., 1., 1., 1., 0., 0., 1., 1., 0., 1., 1.,\n",
       "       1., 0., 0., 0., 1., 0., 1., 1., 1., 1., 1., 1., 1., 1., 0., 0., 1.,\n",
       "       0., 0., 1., 1., 1., 0., 0., 0., 1., 1., 1., 1., 1., 1., 0., 1., 1.,\n",
       "       0., 1., 0., 0., 1., 1., 0., 1., 1., 0., 0., 0., 0., 0., 0., 0., 1.,\n",
       "       0., 1., 0., 0., 0., 0., 0., 1., 0., 0., 0., 1., 0., 1., 1., 1., 0.,\n",
       "       0., 0., 0., 1., 0., 0., 0., 0., 1., 0., 0., 0., 0., 0., 0., 1., 0.,\n",
       "       0., 1., 0., 0., 0., 0., 0., 0., 0., 0., 0., 0., 0., 0., 0., 0., 0.,\n",
       "       1., 0., 0., 0., 0., 0., 1., 0., 0., 0., 1., 0., 1., 0., 0., 0., 0.,\n",
       "       0., 0., 0., 0., 0., 0., 0., 0., 0., 0., 1., 1., 0., 0., 0., 1., 0.,\n",
       "       0., 0., 0., 0., 0., 0., 0., 0., 0., 0., 0., 0., 0., 0., 0., 0., 0.,\n",
       "       0., 0., 0., 0., 1., 0., 1., 0., 0., 0., 0., 0., 0., 0., 0., 0., 0.,\n",
       "       1., 0., 0., 0., 0., 0., 0., 0., 0., 0., 0., 0., 0., 0., 0., 1., 0.,\n",
       "       0., 0., 0., 0., 0., 0., 0., 0., 0., 0., 0., 1., 0., 0., 0., 1., 0.,\n",
       "       0., 0., 0., 0., 0., 0., 0., 0., 0., 0., 0., 0., 0., 0., 0., 0., 0.,\n",
       "       0., 1., 0., 0., 0., 0., 0., 0., 0., 0., 0., 0., 0., 0., 0., 0., 0.,\n",
       "       1., 6.])"
      ]
     },
     "execution_count": 88,
     "metadata": {},
     "output_type": "execute_result"
    }
   ],
   "source": [
    "data.min(axis=1)"
   ]
  },
  {
   "cell_type": "markdown",
   "id": "528983ee",
   "metadata": {},
   "source": [
    "* Find the index of the biggest value\n",
    "* Note: The value you're about to reach is the index of our `data`'s flatten value."
   ]
  },
  {
   "cell_type": "code",
   "execution_count": 89,
   "id": "3c744930",
   "metadata": {},
   "outputs": [
    {
     "data": {
      "text/plain": [
       "2"
      ]
     },
     "execution_count": 89,
     "metadata": {},
     "output_type": "execute_result"
    }
   ],
   "source": [
    "np.argmax(data)   #3.index"
   ]
  },
  {
   "cell_type": "markdown",
   "id": "7fb96b11",
   "metadata": {},
   "source": [
    "* Find the index of the smallest value"
   ]
  },
  {
   "cell_type": "code",
   "execution_count": 90,
   "id": "a1fdde05",
   "metadata": {},
   "outputs": [
    {
     "data": {
      "text/plain": [
       "5"
      ]
     },
     "execution_count": 90,
     "metadata": {},
     "output_type": "execute_result"
    }
   ],
   "source": [
    "np.argmin(data)"
   ]
  },
  {
   "cell_type": "markdown",
   "id": "f0a192a0",
   "metadata": {},
   "source": [
    "* Transpose to `data` and set it the result as `datat`"
   ]
  },
  {
   "cell_type": "code",
   "execution_count": 93,
   "id": "9157da95",
   "metadata": {},
   "outputs": [
    {
     "data": {
      "text/plain": [
       "array([[2.00e+00, 0.00e+00, 1.00e+00, ..., 7.20e+01, 1.00e+00, 6.00e+00],\n",
       "       [5.00e+01, 1.30e+01, 1.60e+01, ..., 1.00e+00, 2.00e+00, 7.00e+00],\n",
       "       [1.25e+04, 3.25e+03, 4.00e+03, ..., 2.50e+02, 3.00e+00, 8.00e+00],\n",
       "       [9.80e+01, 2.80e+01, 3.50e+01, ..., 7.20e+01, 4.00e+00, 9.00e+00],\n",
       "       [1.00e+00, 1.00e+00, 1.00e+00, ..., 0.00e+00, 5.00e+00, 1.00e+01]])"
      ]
     },
     "execution_count": 93,
     "metadata": {},
     "output_type": "execute_result"
    }
   ],
   "source": [
    "datat=np.transpose(data)\n",
    "#data.T\n",
    "\n"
   ]
  },
  {
   "cell_type": "code",
   "execution_count": null,
   "id": "d68dcfe5",
   "metadata": {},
   "outputs": [],
   "source": []
  }
 ],
 "metadata": {
  "kernelspec": {
   "display_name": "Python 3 (ipykernel)",
   "language": "python",
   "name": "python3"
  },
  "language_info": {
   "codemirror_mode": {
    "name": "ipython",
    "version": 3
   },
   "file_extension": ".py",
   "mimetype": "text/x-python",
   "name": "python",
   "nbconvert_exporter": "python",
   "pygments_lexer": "ipython3",
   "version": "3.9.7"
  }
 },
 "nbformat": 4,
 "nbformat_minor": 5
}
